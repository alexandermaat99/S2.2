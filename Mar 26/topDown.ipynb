{
 "cells": [
  {
   "cell_type": "code",
   "execution_count": 1,
   "metadata": {},
   "outputs": [],
   "source": [
    "import pandas as pd"
   ]
  },
  {
   "cell_type": "code",
   "execution_count": 2,
   "metadata": {},
   "outputs": [
    {
     "name": "stdout",
     "output_type": "stream",
     "text": [
      "(979, 9)\n"
     ]
    }
   ],
   "source": [
    "df = pd.read_csv('tweets_aws.csv')\n",
    "df.drop_duplicates(subset=['text'], inplace=True)\n",
    "df = df.loc[~df['text'].str.contains('RT @')]\n",
    "print(df.shape)"
   ]
  },
  {
   "cell_type": "code",
   "execution_count": 3,
   "metadata": {},
   "outputs": [
    {
     "name": "stdout",
     "output_type": "stream",
     "text": [
      "Amazon Web Services is becoming a nice predictable profit engine url url\n",
      "Announcing four new VPN features in our Sao Paulo Region. url url\n",
      "Are you an user? Use #Zadara + #AWS to enahnce your storage just one click away! url url\n",
      "AWS CloudFormation Adds Support for Amazon VPC NAT Gateway Amazon EC2 Container Registry and More url via \n",
      "AWS database migration service now available: url\n"
     ]
    }
   ],
   "source": [
    "def re_mod(doc):\n",
    "  import re\n",
    "  doc = re.sub('\\\\S*@\\\\S*\\\\s?', '', doc)  # remove emails\n",
    "  doc = re.sub('\\\\s+', ' ', doc)          # remove newline chars\n",
    "  doc = re.sub(\"\\\\'\", \"\", doc)            # remove single quotes\n",
    "  doc = re.sub(r\"http\\S+\", \"url\", doc)    # replace URLs with 'url'\n",
    "  return doc\n",
    "\n",
    "# Convert each tweet to a list of cleaned words and add to a master list\n",
    "docs = df['text'].apply(lambda x: re_mod(x)).values.tolist()\n",
    "\n",
    "# Print the first five records to see what they look like\n",
    "for doc in docs[:5]:\n",
    "  print(doc)"
   ]
  }
 ],
 "metadata": {
  "kernelspec": {
   "display_name": "Python 3",
   "language": "python",
   "name": "python3"
  },
  "language_info": {
   "codemirror_mode": {
    "name": "ipython",
    "version": 3
   },
   "file_extension": ".py",
   "mimetype": "text/x-python",
   "name": "python",
   "nbconvert_exporter": "python",
   "pygments_lexer": "ipython3",
   "version": "3.11.8"
  }
 },
 "nbformat": 4,
 "nbformat_minor": 2
}
