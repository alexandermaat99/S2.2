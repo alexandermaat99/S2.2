{
 "cells": [
  {
   "cell_type": "code",
   "execution_count": 2,
   "metadata": {},
   "outputs": [],
   "source": [
    "from cryptography.hazmat.primitives.ciphers import Cipher, algorithms, modes\n",
    "from cryptography.hazmat.backends import default_backend\n",
    "import binascii"
   ]
  },
  {
   "cell_type": "code",
   "execution_count": 3,
   "metadata": {},
   "outputs": [],
   "source": [
    "key_hex = '757365746865666f7263652121212121'\n",
    "iv_hex = '656e6372797074696f6e496e74566563'\n",
    "ciphertext_hex = 'c17baad5ff4c2ce25f10d5a1040df92d'"
   ]
  },
  {
   "cell_type": "code",
   "execution_count": 4,
   "metadata": {},
   "outputs": [],
   "source": [
    "key_bytes = binascii.unhexlify(key_hex)\n",
    "iv_bytes = binascii.unhexlify(iv_hex)\n",
    "ciphertext_bytes = binascii.unhexlify(ciphertext_hex)"
   ]
  },
  {
   "cell_type": "code",
   "execution_count": 5,
   "metadata": {},
   "outputs": [],
   "source": [
    "cipher = Cipher(algorithms.AES(key_bytes), modes.CBC(iv_bytes), backend=default_backend())"
   ]
  },
  {
   "cell_type": "code",
   "execution_count": 6,
   "metadata": {},
   "outputs": [],
   "source": [
    "decryptor = cipher.decryptor()\n",
    "decrypted_text = decryptor.update(ciphertext_bytes) + decryptor.finalize()"
   ]
  },
  {
   "cell_type": "code",
   "execution_count": 7,
   "metadata": {},
   "outputs": [
    {
     "name": "stdout",
     "output_type": "stream",
     "text": [
      "LetTheWookieWin\u0001\n"
     ]
    }
   ],
   "source": [
    "try:\n",
    "    print(decrypted_text.decode('utf-8'))\n",
    "except UnicodeDecodeError:\n",
    "    print(\"Decryption successful, but cannot decode text to UTF-8. Here's the raw decrypted output:\")\n",
    "    print(decrypted_text)"
   ]
  }
 ],
 "metadata": {
  "kernelspec": {
   "display_name": "Python 3",
   "language": "python",
   "name": "python3"
  },
  "language_info": {
   "codemirror_mode": {
    "name": "ipython",
    "version": 3
   },
   "file_extension": ".py",
   "mimetype": "text/x-python",
   "name": "python",
   "nbconvert_exporter": "python",
   "pygments_lexer": "ipython3",
   "version": "3.12.2"
  }
 },
 "nbformat": 4,
 "nbformat_minor": 2
}
