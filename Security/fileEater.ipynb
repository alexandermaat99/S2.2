{
 "cells": [
  {
   "cell_type": "code",
   "execution_count": 17,
   "metadata": {},
   "outputs": [],
   "source": [
    "import hashlib\n",
    "import os"
   ]
  },
  {
   "cell_type": "code",
   "execution_count": 18,
   "metadata": {},
   "outputs": [],
   "source": [
    "def hash_file(file_path):\n",
    "    \"\"\" Generate MD5 hash for a file \"\"\"\n",
    "    hasher = hashlib.md5()\n",
    "    with open(file_path, 'rb') as file:\n",
    "        buf = file.read()\n",
    "        hasher.update(buf)\n",
    "    return hasher.hexdigest()"
   ]
  },
  {
   "cell_type": "code",
   "execution_count": 19,
   "metadata": {},
   "outputs": [
    {
     "ename": "FileNotFoundError",
     "evalue": "[WinError 3] The system cannot find the path specified: 'W24'",
     "output_type": "error",
     "traceback": [
      "\u001b[1;31m---------------------------------------------------------------------------\u001b[0m",
      "\u001b[1;31mFileNotFoundError\u001b[0m                         Traceback (most recent call last)",
      "Cell \u001b[1;32mIn[19], line 28\u001b[0m\n\u001b[0;32m     26\u001b[0m \u001b[38;5;28;01mif\u001b[39;00m \u001b[38;5;18m__name__\u001b[39m \u001b[38;5;241m==\u001b[39m \u001b[38;5;124m\"\u001b[39m\u001b[38;5;124m__main__\u001b[39m\u001b[38;5;124m\"\u001b[39m:\n\u001b[0;32m     27\u001b[0m     directory_path \u001b[38;5;241m=\u001b[39m \u001b[38;5;124m'\u001b[39m\u001b[38;5;124mW24\u001b[39m\u001b[38;5;124m'\u001b[39m  \u001b[38;5;66;03m# Adjust this path if the folder is in a different location\u001b[39;00m\n\u001b[1;32m---> 28\u001b[0m     \u001b[43mmain\u001b[49m\u001b[43m(\u001b[49m\u001b[43mdirectory_path\u001b[49m\u001b[43m)\u001b[49m\n",
      "Cell \u001b[1;32mIn[19], line 7\u001b[0m, in \u001b[0;36mmain\u001b[1;34m(directory_path)\u001b[0m\n\u001b[0;32m      4\u001b[0m total_collisions \u001b[38;5;241m=\u001b[39m \u001b[38;5;241m0\u001b[39m\n\u001b[0;32m      6\u001b[0m \u001b[38;5;66;03m# Loop over files in the specified directory\u001b[39;00m\n\u001b[1;32m----> 7\u001b[0m \u001b[38;5;28;01mfor\u001b[39;00m file \u001b[38;5;129;01min\u001b[39;00m \u001b[43mos\u001b[49m\u001b[38;5;241;43m.\u001b[39;49m\u001b[43mlistdir\u001b[49m\u001b[43m(\u001b[49m\u001b[43mdirectory_path\u001b[49m\u001b[43m)\u001b[49m:\n\u001b[0;32m      8\u001b[0m     file_path \u001b[38;5;241m=\u001b[39m os\u001b[38;5;241m.\u001b[39mpath\u001b[38;5;241m.\u001b[39mjoin(directory_path, file)\n\u001b[0;32m      9\u001b[0m     file_hash \u001b[38;5;241m=\u001b[39m hash_file(file_path)\n",
      "\u001b[1;31mFileNotFoundError\u001b[0m: [WinError 3] The system cannot find the path specified: 'W24'"
     ]
    }
   ],
   "source": [
    "def main(directory_path):\n",
    "    # Dictionary to track hash to list of file names mapping\n",
    "    hash_map = {}\n",
    "    total_collisions = 0\n",
    "    \n",
    "    # Loop over files in the specified directory\n",
    "    for file in os.listdir(directory_path):\n",
    "        file_path = os.path.join(directory_path, file)\n",
    "        file_hash = hash_file(file_path)\n",
    "        \n",
    "        if file_hash in hash_map:\n",
    "            hash_map[file_hash].append(file)\n",
    "        else:\n",
    "            hash_map[file_hash] = [file]\n",
    "    \n",
    "    # Now calculate the number of collision pairs\n",
    "    for files in hash_map.values():\n",
    "        if len(files) > 1:\n",
    "            # Calculate number of unique pairs (combinations) that can be formed from the files list\n",
    "            n = len(files)\n",
    "            total_collisions += n * (n - 1) // 2  # Combination formula nC2 = n*(n-1)/2\n",
    "    \n",
    "    print(f\"Total unique files by content: {len(hash_map)}\")\n",
    "    print(f\"Number of collision pairs: {total_collisions}\")\n",
    "\n",
    "if __name__ == \"__main__\":\n",
    "    directory_path = 'filesW24'  # Adjust this path if the folder is in a different location\n",
    "    main(directory_path)"
   ]
  }
 ],
 "metadata": {
  "kernelspec": {
   "display_name": "Python 3",
   "language": "python",
   "name": "python3"
  },
  "language_info": {
   "codemirror_mode": {
    "name": "ipython",
    "version": 3
   },
   "file_extension": ".py",
   "mimetype": "text/x-python",
   "name": "python",
   "nbconvert_exporter": "python",
   "pygments_lexer": "ipython3",
   "version": "3.12.2"
  }
 },
 "nbformat": 4,
 "nbformat_minor": 2
}
